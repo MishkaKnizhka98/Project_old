{
 "cells": [
  {
   "cell_type": "code",
   "execution_count": 14,
   "id": "24f2074c",
   "metadata": {},
   "outputs": [],
   "source": [
    "import numpy as np\n",
    "import matplotlib.pyplot as plt\n",
    "def learning_curve(num_iters, cost_history):\n",
    "    \"\"\"\n",
    "    \n",
    "    Generates a learning curve (cost function J vs iterations). If J decreases at each step, than the model works.\n",
    "    \n",
    "    Args:\n",
    "        num_iters (int): Number of iterations to run gradient descent\n",
    "        cost_history (list): Shape (num_iters,) Values of cost function at each itaeration step\n",
    "    \n",
    "    \"\"\"\n",
    "    iterations = np.arange(num_iters, dtype = int) #Creating an array of iteration steps\n",
    "    plt.scatter(iterations, cost_history)\n",
    "    plt.title(\"Learning curve\")\n",
    "    plt.xlabel(\"# of iteration\")\n",
    "    plt.ylabel(\"Cost function\")\n",
    "    plt.show()\n",
    "    \n",
    "    \n",
    "    "
   ]
  },
  {
   "cell_type": "code",
   "execution_count": 15,
   "id": "8871be08",
   "metadata": {},
   "outputs": [
    {
     "data": {
      "image/png": "[encoded data removed]",
      "text/plain": [
       "<Figure size 432x288 with 1 Axes>"
      ]
     },
     "metadata": {
      "needs_background": "light"
     },
     "output_type": "display_data"
    }
   ],
   "source": [
    "learning_curve(10, [5,5,6,7,8,1,2,3,9,10])"
   ]
  },
  {
   "cell_type": "code",
   "execution_count": null,
   "id": "9ed63bd3",
   "metadata": {},
   "outputs": [],
   "source": []
  }
 ],
 "metadata": {
  "kernelspec": {
   "display_name": "Python 3 (ipykernel)",
   "language": "python",
   "name": "python3"
  },
  "language_info": {
   "codemirror_mode": {
    "name": "ipython",
    "version": 3
   },
   "file_extension": ".py",
   "mimetype": "text/x-python",
   "name": "python",
   "nbconvert_exporter": "python",
   "pygments_lexer": "ipython3",
   "version": "3.9.7"
  }
 },
 "nbformat": 4,
 "nbformat_minor": 5
}
