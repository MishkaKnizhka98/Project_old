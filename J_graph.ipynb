{
 "cells": [
  {
   "cell_type": "code",
   "execution_count": 1,
   "id": "4792cc29",
   "metadata": {},
   "outputs": [],
   "source": [
    "def learning_curve(num_iters, cost, gradient_descent):\n",
    "    iterations = np.arange(num_ters, dtype = int)\n",
    "    _, _, cost = gradient_descent(x, y, w_init, b_init, cost_function, gradient_function, alpha, num_iters) #J_history\n",
    "    plt.scatter(num_iters, cost)\n",
    "    plt.show()\n",
    "    \n",
    "    \n",
    "    "
   ]
  },
  {
   "cell_type": "code",
   "execution_count": null,
   "id": "1df71535",
   "metadata": {},
   "outputs": [],
   "source": []
  }
 ],
 "metadata": {
  "kernelspec": {
   "display_name": "Python 3 (ipykernel)",
   "language": "python",
   "name": "python3"
  },
  "language_info": {
   "codemirror_mode": {
    "name": "ipython",
    "version": 3
   },
   "file_extension": ".py",
   "mimetype": "text/x-python",
   "name": "python",
   "nbconvert_exporter": "python",
   "pygments_lexer": "ipython3",
   "version": "3.9.7"
  }
 },
 "nbformat": 4,
 "nbformat_minor": 5
}
