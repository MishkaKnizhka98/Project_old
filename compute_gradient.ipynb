{
 "cells": [
  {
   "cell_type": "code",
   "execution_count": 1,
   "id": "e418f75b",
   "metadata": {},
   "outputs": [],
   "source": [
    "def compute_gradient(x,y,w,b):\n",
    "    \"\"\"\n",
    "    Computes the gradient for linear regression.\n",
    "    \n",
    "    Args:\n",
    "        x (ndarray): Shape (m,n) Input to the model (features of students)\n",
    "        y (ndarray): Shape (m,) Target (final grade G3 of students)\n",
    "        w (ndarray): Shape(n,) Parameter of a model\n",
    "        b (scalar): Parameter of a model\n",
    "    Returns:\n",
    "        dj_dw (ndarray): Shape (n,) The gradient of the cost function depending on parameter w\n",
    "        dj_db (scalar): The gradient of the cost function depending on parameter b\n",
    "    \"\"\"\n",
    "    \n",
    "    m = x.shape[0]\n",
    "    n = x.shape[1]\n",
    "    \n",
    "    dj_dw = np.zeros(n)\n",
    "    dj_db = 0\n",
    "    \n",
    "    dj_dw_sum = np.zeros(n)\n",
    "    dj_db_sum = 0\n",
    "    \n",
    "    for j in range(n):\n",
    "        for i in range(m):\n",
    "            func = np.dot(w, x[i]) + b\n",
    "            dj_dw_i_j = (func - y[i])*x[i][j]\n",
    "            dj_dw_sum[j] = dj_dw_sum[j] + dj_dw_i_j\n",
    "        dj_dw[j] = dj_dw_sum[j]/m\n",
    "        \n",
    "    for i in range(m):\n",
    "        func = np.dot(w, x[i]) + b\n",
    "        dj_db = func - y[i]\n",
    "        dj_db_sum = dj_db_sum + dj_db\n",
    "    dj_db = dj_db/m\n",
    "    \n",
    "    \n",
    "    return dj_dw, dj_db\n",
    "    \n",
    "    \n",
    "            \n",
    "            \n",
    "    \n",
    "    \n",
    "    "
   ]
  },
  {
   "cell_type": "code",
   "execution_count": 27,
   "id": "879e4956",
   "metadata": {},
   "outputs": [],
   "source": [
    "import numpy as np\n",
    "x = np.array([[1,2,3],\n",
    "              [4,5,6]])\n",
    "              \n",
    "y = np.array([1,2])\n",
    "w = np.array([0.1,0.2,0.3])\n",
    "b = 1"
   ]
  },
  {
   "cell_type": "code",
   "execution_count": 29,
   "id": "38ba4a00",
   "metadata": {},
   "outputs": [
    {
     "data": {
      "text/plain": [
       "1.1499999999999995"
      ]
     },
     "execution_count": 29,
     "metadata": {},
     "output_type": "execute_result"
    }
   ],
   "source": [
    "a, b = compute_gradient(x,y,w,b)\n",
    "a\n",
    "b"
   ]
  },
  {
   "cell_type": "code",
   "execution_count": null,
   "id": "6f60aea0",
   "metadata": {},
   "outputs": [],
   "source": [
    "np.dot(x, )"
   ]
  },
  {
   "cell_type": "code",
   "execution_count": 18,
   "id": "0f517ca4",
   "metadata": {},
   "outputs": [
    {
     "name": "stdout",
     "output_type": "stream",
     "text": [
      "Rows:  2 Columns:  3\n"
     ]
    }
   ],
   "source": [
    "m = x.shape[0]\n",
    "n = x.shape[1]\n",
    "print(\"Rows: \", m, \"Columns: \", n)"
   ]
  },
  {
   "cell_type": "code",
   "execution_count": 19,
   "id": "60fb3643",
   "metadata": {},
   "outputs": [
    {
     "data": {
      "text/plain": [
       "array([0., 0., 0.])"
      ]
     },
     "execution_count": 19,
     "metadata": {},
     "output_type": "execute_result"
    }
   ],
   "source": [
    "dj_dw = np.zeros(n)\n",
    "dj_db = 0\n",
    "    \n",
    "dj_dw"
   ]
  },
  {
   "cell_type": "code",
   "execution_count": 20,
   "id": "b8067f0d",
   "metadata": {},
   "outputs": [
    {
     "data": {
      "text/plain": [
       "array([0., 0., 0.])"
      ]
     },
     "execution_count": 20,
     "metadata": {},
     "output_type": "execute_result"
    }
   ],
   "source": [
    "dj_dw_sum = np.zeros(n)\n",
    "dj_db_sum = 0\n",
    "\n",
    "dj_dw_sum"
   ]
  },
  {
   "cell_type": "code",
   "execution_count": 23,
   "id": "cf33fa7a",
   "metadata": {},
   "outputs": [],
   "source": [
    "w = np.array([0.1,0.1,0.1])\n",
    "b = 0.1\n",
    "for j in range(n):\n",
    "    for i in range(m):\n",
    "        func = np.dot(w, x[i]) + b\n",
    "        dj_dw_i_j = (func - y[i])*x[i][j]\n",
    "        dj_dw_sum[j] = dj_dw_sum[j] + dj_dw_i_j\n",
    "    dj_dw[j] = dj_dw_sum[j]/m\n",
    "    "
   ]
  },
  {
   "cell_type": "code",
   "execution_count": 24,
   "id": "1e53155d",
   "metadata": {},
   "outputs": [],
   "source": [
    "for i in range(m):\n",
    "    func = np.dot(w, x[i]) + b\n",
    "    dj_db = func - y[i]\n",
    "    dj_db_sum = dj_db_sum + dj_db\n",
    "dj_db = dj_db/m\n",
    "    "
   ]
  },
  {
   "cell_type": "code",
   "execution_count": 25,
   "id": "bb39c95b",
   "metadata": {},
   "outputs": [
    {
     "data": {
      "text/plain": [
       "array([-0.95, -1.3 , -1.65])"
      ]
     },
     "execution_count": 25,
     "metadata": {},
     "output_type": "execute_result"
    }
   ],
   "source": [
    "dj_dw"
   ]
  },
  {
   "cell_type": "code",
   "execution_count": 26,
   "id": "02a25a52",
   "metadata": {},
   "outputs": [
    {
     "data": {
      "text/plain": [
       "-0.19999999999999996"
      ]
     },
     "execution_count": 26,
     "metadata": {},
     "output_type": "execute_result"
    }
   ],
   "source": [
    "dj_db"
   ]
  },
  {
   "cell_type": "code",
   "execution_count": null,
   "id": "a0b33d59",
   "metadata": {},
   "outputs": [],
   "source": []
  }
 ],
 "metadata": {
  "kernelspec": {
   "display_name": "Python 3 (ipykernel)",
   "language": "python",
   "name": "python3"
  },
  "language_info": {
   "codemirror_mode": {
    "name": "ipython",
    "version": 3
   },
   "file_extension": ".py",
   "mimetype": "text/x-python",
   "name": "python",
   "nbconvert_exporter": "python",
   "pygments_lexer": "ipython3",
   "version": "3.9.7"
  }
 },
 "nbformat": 4,
 "nbformat_minor": 5
}
