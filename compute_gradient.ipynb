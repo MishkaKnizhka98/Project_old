{
 "cells": [
  {
   "cell_type": "code",
   "execution_count": 4,
   "id": "e418f75b",
   "metadata": {},
   "outputs": [],
   "source": [
    "def compute_gradient(x,y,w,b):\n",
    "    \"\"\"\n",
    "    Computes the gradient for linear regression.\n",
    "    \n",
    "    Args:\n",
    "        x (ndarray): Shape (m,n) Input to the model (features of students)\n",
    "        y (ndarray): Shape (m,) Target (final grade G3 of students)\n",
    "        w (ndarray): Shape(n,) Parameter of a model\n",
    "        b (scalar): Parameter of a model\n",
    "    Returns:\n",
    "        dj_dw (ndarray): Shape (n,) The gradient of the cost function depending on parameter w\n",
    "        dj_db (scalar): The gradient of the cost function depending on parameter b\n",
    "    \"\"\"\n",
    "    \n",
    "    m = x.shape[0]\n",
    "    n = x.shape[1]\n",
    "    \n",
    "    dj_dw = np.zeros(n)\n",
    "    dj_db = 0\n",
    "    \n",
    "    dj_dw_sum = np.zeros(n)\n",
    "    dj_db_sum = 0\n",
    "    \n",
    "    for j in range(n):\n",
    "        for i in range(m):\n",
    "            func = np.dot(w, x[i]) + b\n",
    "            dj_dw_i_j = (func - y[i])*x[i][j]\n",
    "            dj_dw_sum[j] = dj_dw_sum[j] + dj_dw_i_j\n",
    "        dj_dw[j] = dj_dw_sum[j]/m\n",
    "        \n",
    "    for i in range(m):\n",
    "        func = np.dot(w, x[i]) + b\n",
    "        dj_db = func - y[i]\n",
    "        dj_db_sum = dj_db_sum + dj_db\n",
    "    dj_db = dj_db/m\n",
    "    \n",
    "    \n",
    "    return dj_dw, dj_db\n",
    "    \n",
    "    \n",
    "            \n",
    "            \n",
    "    \n",
    "    \n",
    "    "
   ]
  },
  {
   "cell_type": "code",
   "execution_count": null,
   "id": "879e4956",
   "metadata": {},
   "outputs": [],
   "source": []
  }
 ],
 "metadata": {
  "kernelspec": {
   "display_name": "Python 3 (ipykernel)",
   "language": "python",
   "name": "python3"
  },
  "language_info": {
   "codemirror_mode": {
    "name": "ipython",
    "version": 3
   },
   "file_extension": ".py",
   "mimetype": "text/x-python",
   "name": "python",
   "nbconvert_exporter": "python",
   "pygments_lexer": "ipython3",
   "version": "3.9.7"
  }
 },
 "nbformat": 4,
 "nbformat_minor": 5
}
