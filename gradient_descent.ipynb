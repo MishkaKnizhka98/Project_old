{
 "cells": [
  {
   "cell_type": "code",
   "execution_count": 4,
   "id": "ab34f001",
   "metadata": {},
   "outputs": [],
   "source": [
    "def gradient_descent(x, y, w_init, b_init, cost_function, gradient_function, alpha, num_iters):\n",
    "    \"\"\"\n",
    "    \n",
    "    Performs gradient descent to compute parameters w, b of the model. Updated the parameters by taking \n",
    "    num_iters gradient steps with the learning rate alpha.\n",
    "    \n",
    "    Args:\n",
    "        x (ndarray): Shape (m,n) Input to the model (features of students)\n",
    "        y (ndarray): Shape (m,) Target (final grade G3 of students)\n",
    "        w_init (ndarray): Shape (n,) Initial parameter of the model\n",
    "        b_init (scalar):  Initial parameter of the model\n",
    "        cost_function: Function to compute cost\n",
    "        gradient_function: Function to compute the gradient of cost\n",
    "        alpha (float): Learning rate\n",
    "        num_iters (int): Number of iterations to run gradient descent\n",
    "    \n",
    "    Returns:\n",
    "        w (ndarray): Shape (n,) Updated values of parameters of the model after running gradient descent\n",
    "        b (scalar): Updated value of parameter of the model after running gradient descent\n",
    "    \"\"\"\n",
    "    \n",
    "    m = x.shape[0] #number of training examples\n",
    "    n = x.shape[1] #number of features\n",
    "    \n",
    "    J_history = []\n",
    "    \n",
    "    w = copy.deepcopy(w_init) #Assigning w and b to initial values\n",
    "    b = copy.deepcopy(b_init)\n",
    "    \n",
    "    for i in range(num_iters):\n",
    "        \n",
    "        #Calculate the gradient\n",
    "        dj_dw, dj_db = gradient_function(x,y,w,b)\n",
    "        \n",
    "        #Update the parameters\n",
    "        for j in range(n):\n",
    "            w[j] = w[j] - alpha*dj_dw[j]\n",
    "        b = b - alpha*dj_db\n",
    "        \n",
    "        #Save the cost J at each step\n",
    "        if i < 10000:    #Prevent resource exhaustion\n",
    "            cost = cost_function(x,y,w,b)\n",
    "            J_history.append(cost)\n",
    "    \n",
    "    return w, b, J_history #Return J history for graphing\n",
    "        \n",
    "            \n",
    "                \n",
    "        \n",
    "        \n",
    "        \n",
    "    "
   ]
  },
  {
   "cell_type": "code",
   "execution_count": null,
   "id": "5a7dd085",
   "metadata": {},
   "outputs": [],
   "source": []
  }
 ],
 "metadata": {
  "kernelspec": {
   "display_name": "Python 3 (ipykernel)",
   "language": "python",
   "name": "python3"
  },
  "language_info": {
   "codemirror_mode": {
    "name": "ipython",
    "version": 3
   },
   "file_extension": ".py",
   "mimetype": "text/x-python",
   "name": "python",
   "nbconvert_exporter": "python",
   "pygments_lexer": "ipython3",
   "version": "3.9.7"
  }
 },
 "nbformat": 4,
 "nbformat_minor": 5
}
