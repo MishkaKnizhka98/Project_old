{
 "cells": [
  {
   "cell_type": "code",
   "execution_count": null,
   "id": "c561f888",
   "metadata": {},
   "outputs": [],
   "source": [
    "def predict(x, gradient_descent):\n",
    "    w, b, _ = gradient_descent(x, y, w_init, b_init, cost_function, gradient_function, alpha, num_iters) #Learnt parameters\n",
    "    y_pred"
   ]
  }
 ],
 "metadata": {
  "kernelspec": {
   "display_name": "Python 3 (ipykernel)",
   "language": "python",
   "name": "python3"
  },
  "language_info": {
   "codemirror_mode": {
    "name": "ipython",
    "version": 3
   },
   "file_extension": ".py",
   "mimetype": "text/x-python",
   "name": "python",
   "nbconvert_exporter": "python",
   "pygments_lexer": "ipython3",
   "version": "3.9.7"
  }
 },
 "nbformat": 4,
 "nbformat_minor": 5
}
