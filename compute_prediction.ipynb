{
 "cells": [
  {
   "cell_type": "code",
   "execution_count": 3,
   "id": "27ce8698",
   "metadata": {},
   "outputs": [],
   "source": [
    "def predict(x, w, b):\n",
    "    \"\"\"\n",
    "    \n",
    "    Predicts the final grade of a student by using the trained model with updates parameters w and b.\n",
    "    \n",
    "    Args:\n",
    "        x (ndarray): Shape (m,n) Input to the model (features of students)\n",
    "        w (ndarray): Shape(n,) Updated parameter of the trained model\n",
    "        b (scalar): Updated parameter of the trained model \n",
    "        \n",
    "    Returns:\n",
    "        y_pred (float): prediction of the final grade for the student\n",
    "    \"\"\"\n",
    "    \n",
    "    y_pred = np.dot(w,x) + b\n",
    "    return y_pred"
   ]
  },
  {
   "cell_type": "code",
   "execution_count": null,
   "id": "99915895",
   "metadata": {},
   "outputs": [],
   "source": []
  }
 ],
 "metadata": {
  "kernelspec": {
   "display_name": "Python 3 (ipykernel)",
   "language": "python",
   "name": "python3"
  },
  "language_info": {
   "codemirror_mode": {
    "name": "ipython",
    "version": 3
   },
   "file_extension": ".py",
   "mimetype": "text/x-python",
   "name": "python",
   "nbconvert_exporter": "python",
   "pygments_lexer": "ipython3",
   "version": "3.9.7"
  }
 },
 "nbformat": 4,
 "nbformat_minor": 5
}
