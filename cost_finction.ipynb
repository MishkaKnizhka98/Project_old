{
 "cells": [
  {
   "cell_type": "code",
   "execution_count": 1,
   "id": "a2978a5a",
   "metadata": {},
   "outputs": [],
   "source": [
    "import numpy as np"
   ]
  },
  {
   "cell_type": "code",
   "execution_count": 2,
   "id": "3dee7995",
   "metadata": {},
   "outputs": [],
   "source": [
    "def compute_cost(x, y, w, b):\n",
    "    \"\"\"\n",
    "    Computes the cost function for linear regression.\n",
    "    \n",
    "    Args:\n",
    "        x (ndarray): Shape (m,n) Input to the model (features of students)\n",
    "        y (ndarray): Shape (m,) Target (final grade G3 of students)\n",
    "        w (ndarray): Shape(n,) Parameter of a model\n",
    "        b (scalar): Parameter of a model\n",
    "    \n",
    "    Returns:\n",
    "        total_cost (float): the cost of using w,b as the parameters for linear regression to fit the data points x and y\n",
    "    \"\"\"\n",
    "    m = x.shape[0]\n",
    "    n = x.shape[1]\n",
    "    \n",
    "    total_cost = 0\n",
    "    \n",
    "    sum = 0\n",
    "    for i in range(m):\n",
    "        func = np.dot(w,x[i]) + b\n",
    "        cost = (func - y[i])**2\n",
    "        sum = sum + cost\n",
    "    total_cost = sum/(2*m)\n",
    "    return total_cost\n",
    "        "
   ]
  },
  {
   "cell_type": "code",
   "execution_count": null,
   "id": "4610604a",
   "metadata": {},
   "outputs": [],
   "source": []
  }
 ],
 "metadata": {
  "kernelspec": {
   "display_name": "Python 3 (ipykernel)",
   "language": "python",
   "name": "python3"
  },
  "language_info": {
   "codemirror_mode": {
    "name": "ipython",
    "version": 3
   },
   "file_extension": ".py",
   "mimetype": "text/x-python",
   "name": "python",
   "nbconvert_exporter": "python",
   "pygments_lexer": "ipython3",
   "version": "3.9.7"
  }
 },
 "nbformat": 4,
 "nbformat_minor": 5
}
