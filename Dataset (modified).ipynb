{
 "cells": [
  {
   "cell_type": "code",
   "execution_count": 26,
   "id": "ac9251f8",
   "metadata": {},
   "outputs": [],
   "source": [
    "import pandas as pd\n",
    "import numpy as np\n",
    "import matplotlib.pyplot as plt\n",
    "import copy\n",
    "from sklearn.preprocessing import LabelEncoder\n",
    "from sklearn.preprocessing import StandardScaler\n",
    "\n",
    "\n",
    "def load_data(file_name):\n",
    "    \"\"\"\n",
    "    Loads the data from a student dataset file_name and converts it to a training set (x_train, y_train).\n",
    "    The input x_train includes the features [\"sex\", \"age\", \"Pstatus\", \"Mjob\", \"Fjob\", \"higher\", \"activities\"],\n",
    "    the output y_train contains the final grade G3.\n",
    "\n",
    "    Parameters:\n",
    "        file_name (string): path to a student dataset\n",
    "\n",
    "    Returns:\n",
    "        x_train (ndarray): Shape(m, 7), m - number of training examples (students) Input to the model\n",
    "        y_train (ndarray): Shape(m,) Output of the model\n",
    "    \"\"\"\n",
    "    # importing the dataset\n",
    "    data = pd.read_csv(file_name)\n",
    "\n",
    "    # Editing the raw dataset to get x_train and y_train\n",
    "    data = data[[\"school\", \"sex\", \"age\", \"Mjob\", \"Fjob\", \"higher\", \"activities\", \"G3\"]]\n",
    "\n",
    "    # Turning categorical features into numbers\n",
    "    # Dummy matrices + Label Encoding\n",
    "    non_num = data.select_dtypes(include=\"object\")\n",
    "    encoder = LabelEncoder()\n",
    "    for column in non_num.columns:\n",
    "        if len(non_num[column].unique()) == 2:\n",
    "            data[column] = encoder.fit_transform(data[column])\n",
    "        \n",
    "        else:\n",
    "            non_num[column] = non_num[column].apply(lambda x: column[0].lower() + \"_\" + x)\n",
    "            dummies = pd.get_dummies(non_num[column])\n",
    "            dummies = dummies.drop([dummies.columns[-1]], axis = 1)\n",
    "            data = pd.concat([data, dummies], axis=1)\n",
    "            data = data.drop([column], axis=1)\n",
    "\n",
    "    # Extracting x_train and y_train from the table\n",
    "    x_train = data.drop([\"G3\"], axis=1)\n",
    "    y_train = data[\"G3\"]\n",
    "\n",
    "    return x_train, y_train"
   ]
  },
  {
   "cell_type": "code",
   "execution_count": 27,
   "id": "811bac42",
   "metadata": {},
   "outputs": [],
   "source": [
    "def pd_to_np(x,y):\n",
    "    \"\"\"\n",
    "    \n",
    "    Converts a Dataframe to a Numpy array.\n",
    "    \n",
    "    Parameters:\n",
    "        x (pandas dataframe): Training set as DataFrame\n",
    "        y (pandas dataframe): Output set as DataFrame\n",
    "    \n",
    "    Returns:\n",
    "        x (ndarray): Training set as Numpy array\n",
    "        y (ndarray): Output set as Numpy array\n",
    "    \"\"\"\n",
    "        \n",
    "    x = x.to_numpy()\n",
    "    y = y.to_numpy()\n",
    "    \n",
    "    x = x.astype('float64')\n",
    "    y = y.astype('float64')\n",
    "    \n",
    "    return x, y"
   ]
  },
  {
   "cell_type": "code",
   "execution_count": 28,
   "id": "c2addac8",
   "metadata": {
    "scrolled": true
   },
   "outputs": [],
   "source": [
    "def normalize(x):\n",
    "    \"\"\"\n",
    "    \n",
    "    Performs feature scaling in the range [0,1] by division of each feature by its maximum value.\n",
    "    \n",
    "    Parameters:\n",
    "        x (ndarray): Training set (features of students)\n",
    "    \n",
    "    Returns:\n",
    "        x (ndarray): Training set exposed to feature scaling (input to the model)\n",
    "    \"\"\"\n",
    "    \n",
    "    x = x.astype('float64')\n",
    "    for column in range(x.shape[1]):\n",
    "        x[:,column] = x[:,column]/x[:,column].max()\n",
    "        \n",
    "    return x\n"
   ]
  },
  {
   "cell_type": "code",
   "execution_count": null,
   "id": "d529e9d9",
   "metadata": {
    "scrolled": true
   },
   "outputs": [],
   "source": []
  },
  {
   "cell_type": "code",
   "execution_count": 29,
   "id": "60fbca41",
   "metadata": {},
   "outputs": [
    {
     "data": {
      "text/plain": [
       "array([[0.01, 0.02, 0.03],\n",
       "       [0.04, 0.05, 0.06],\n",
       "       [0.07, 0.08, 0.09],\n",
       "       [1.  , 1.  , 1.  ]], dtype=float32)"
      ]
     },
     "execution_count": 29,
     "metadata": {},
     "output_type": "execute_result"
    }
   ],
   "source": [
    "ex = np.array([[1,2,3],\n",
    "               [4,5,6],\n",
    "               [7,8,9],\n",
    "               [100,100,100]])\n",
    "normalize(ex)"
   ]
  },
  {
   "cell_type": "code",
   "execution_count": 30,
   "id": "df37c7de",
   "metadata": {},
   "outputs": [
    {
     "data": {
      "text/plain": [
       "dtype('float32')"
      ]
     },
     "execution_count": 30,
     "metadata": {},
     "output_type": "execute_result"
    }
   ],
   "source": [
    "ex_norm = normalize(ex)\n",
    "ex_norm[0][0].dtype"
   ]
  },
  {
   "cell_type": "code",
   "execution_count": 31,
   "id": "4fea85e5",
   "metadata": {},
   "outputs": [
    {
     "name": "stderr",
     "output_type": "stream",
     "text": [
      "C:\\Users\\Admin\\AppData\\Local\\Temp/ipykernel_20324/4288025405.py:37: SettingWithCopyWarning: \n",
      "A value is trying to be set on a copy of a slice from a DataFrame.\n",
      "Try using .loc[row_indexer,col_indexer] = value instead\n",
      "\n",
      "See the caveats in the documentation: https://pandas.pydata.org/pandas-docs/stable/user_guide/indexing.html#returning-a-view-versus-a-copy\n",
      "  non_num[column] = non_num[column].apply(lambda x: column[0].lower() + \"_\" + x)\n"
     ]
    },
    {
     "data": {
      "text/plain": [
       "pandas.core.frame.DataFrame"
      ]
     },
     "execution_count": 31,
     "metadata": {},
     "output_type": "execute_result"
    }
   ],
   "source": [
    "x_train, y_train = load_data(\"student-mat.csv\")\n",
    "\n",
    "type(x_train)"
   ]
  },
  {
   "cell_type": "code",
   "execution_count": 32,
   "id": "4298cb20",
   "metadata": {},
   "outputs": [
    {
     "name": "stderr",
     "output_type": "stream",
     "text": [
      "C:\\Users\\Admin\\AppData\\Local\\Temp/ipykernel_20324/2195129576.py:18: DeprecationWarning: Changing the shape of an F-contiguous array by descriptor assignment is deprecated. To maintain the Fortran contiguity of a multidimensional Fortran array, use 'a.T.view(...).T' instead\n",
      "  x.dtype = \"f\"\n"
     ]
    },
    {
     "data": {
      "text/plain": [
       "array([[0.0e+00, 0.0e+00, 2.5e-44, ..., 0.0e+00, 0.0e+00, 0.0e+00],\n",
       "       [0.0e+00, 0.0e+00, 0.0e+00, ..., 0.0e+00, 0.0e+00, 0.0e+00],\n",
       "       [0.0e+00, 0.0e+00, 2.4e-44, ..., 0.0e+00, 1.4e-45, 0.0e+00],\n",
       "       ...,\n",
       "       [0.0e+00, 0.0e+00, 0.0e+00, ..., 0.0e+00, 0.0e+00, 0.0e+00],\n",
       "       [1.4e-45, 1.4e-45, 2.7e-44, ..., 0.0e+00, 0.0e+00, 0.0e+00],\n",
       "       [0.0e+00, 0.0e+00, 0.0e+00, ..., 0.0e+00, 0.0e+00, 0.0e+00]],\n",
       "      dtype=float32)"
      ]
     },
     "execution_count": 32,
     "metadata": {},
     "output_type": "execute_result"
    }
   ],
   "source": [
    "x_train, y_train = pd_to_np(x_train, y_train)\n",
    "x_train"
   ]
  },
  {
   "cell_type": "code",
   "execution_count": 21,
   "id": "1a940303",
   "metadata": {},
   "outputs": [
    {
     "data": {
      "text/plain": [
       "dtype('float32')"
      ]
     },
     "execution_count": 21,
     "metadata": {},
     "output_type": "execute_result"
    }
   ],
   "source": [
    "x_train.dtype"
   ]
  },
  {
   "cell_type": "code",
   "execution_count": 25,
   "id": "cbd16f28",
   "metadata": {},
   "outputs": [
    {
     "data": {
      "text/plain": [
       "array([0.8181818 , 0.        , 0.77272725, 0.        , 0.6818182 ,\n",
       "       0.        , 0.6818182 , 0.        , 0.72727275, 0.        ,\n",
       "       0.72727275, 0.        , 0.72727275, 0.        , 0.77272725,\n",
       "       0.        , 0.6818182 , 0.        , 0.6818182 , 0.        ,\n",
       "       0.6818182 , 0.        , 0.6818182 , 0.        , 0.6818182 ,\n",
       "       0.        , 0.6818182 , 0.        , 0.6818182 , 0.        ,\n",
       "       0.72727275, 0.        , 0.72727275, 0.        , 0.72727275,\n",
       "       0.        , 0.77272725, 0.        , 0.72727275, 0.        ,\n",
       "       0.6818182 , 0.        , 0.6818182 , 0.        , 0.72727275,\n",
       "       0.        , 0.72727275, 0.        , 0.6818182 , 0.        ,\n",
       "       0.72727275, 0.        , 0.6818182 , 0.        , 0.6818182 ,\n",
       "       0.        , 0.72727275, 0.        , 0.72727275, 0.        ,\n",
       "       0.6818182 , 0.        , 0.6818182 , 0.        , 0.6818182 ,\n",
       "       0.        , 0.6818182 , 0.        , 0.72727275, 0.        ,\n",
       "       0.6818182 , 0.        , 0.6818182 , 0.        , 0.72727275,\n",
       "       0.        , 0.6818182 , 0.        , 0.6818182 , 0.        ,\n",
       "       0.72727275, 0.        , 0.6818182 , 0.        , 0.6818182 ,\n",
       "       0.        , 0.6818182 , 0.        , 0.72727275, 0.        ,\n",
       "       0.6818182 , 0.        , 0.72727275, 0.        , 0.72727275,\n",
       "       0.        , 0.6818182 , 0.        , 0.6818182 , 0.        ,\n",
       "       0.72727275, 0.        , 0.6818182 , 0.        , 0.6818182 ,\n",
       "       0.        , 0.6818182 , 0.        , 0.6818182 , 0.        ,\n",
       "       0.72727275, 0.        , 0.6818182 , 0.        , 0.6818182 ,\n",
       "       0.        , 0.6818182 , 0.        , 0.72727275, 0.        ,\n",
       "       0.72727275, 0.        , 0.72727275, 0.        , 0.72727275,\n",
       "       0.        , 0.72727275, 0.        , 0.6818182 , 0.        ,\n",
       "       0.72727275, 0.        , 0.6818182 , 0.        , 0.72727275,\n",
       "       0.        , 0.6818182 , 0.        , 0.6818182 , 0.        ,\n",
       "       0.72727275, 0.        , 0.6818182 , 0.        , 0.6818182 ,\n",
       "       0.        , 0.72727275, 0.        , 0.72727275, 0.        ,\n",
       "       0.6818182 , 0.        , 0.6818182 , 0.        , 0.72727275,\n",
       "       0.        , 0.77272725, 0.        , 0.72727275, 0.        ,\n",
       "       0.6818182 , 0.        , 0.6818182 , 0.        , 0.6818182 ,\n",
       "       0.        , 0.6818182 , 0.        , 0.6818182 , 0.        ,\n",
       "       0.6818182 , 0.        , 0.72727275, 0.        , 0.6818182 ,\n",
       "       0.        , 0.72727275, 0.        , 0.72727275, 0.        ,\n",
       "       0.72727275, 0.        , 0.6818182 , 0.        , 0.72727275,\n",
       "       0.        , 0.72727275, 0.        , 0.6818182 , 0.        ,\n",
       "       0.6818182 , 0.        , 0.72727275, 0.        , 0.72727275,\n",
       "       0.        , 0.72727275, 0.        , 0.72727275, 0.        ,\n",
       "       0.72727275, 0.        , 0.72727275, 0.        , 0.6818182 ,\n",
       "       0.        , 0.6818182 , 0.        , 0.6818182 , 0.        ,\n",
       "       0.6818182 , 0.        , 0.6818182 , 0.        , 0.72727275,\n",
       "       0.        , 0.6818182 , 0.        , 0.72727275, 0.        ,\n",
       "       0.6818182 , 0.        , 0.72727275, 0.        , 0.72727275,\n",
       "       0.        , 0.6818182 , 0.        , 0.6818182 , 0.        ,\n",
       "       0.72727275, 0.        , 0.6818182 , 0.        , 0.72727275,\n",
       "       0.        , 0.77272725, 0.        , 0.6818182 , 0.        ,\n",
       "       0.6818182 , 0.        , 0.6818182 , 0.        , 0.72727275,\n",
       "       0.        , 0.72727275, 0.        , 0.72727275, 0.        ,\n",
       "       0.6818182 , 0.        , 0.6818182 , 0.        , 0.8636364 ,\n",
       "       0.        , 0.8181818 , 0.        , 0.72727275, 0.        ,\n",
       "       0.6818182 , 0.        , 0.6818182 , 0.        , 0.77272725,\n",
       "       0.        , 0.72727275, 0.        , 0.6818182 , 0.        ,\n",
       "       0.6818182 , 0.        , 0.77272725, 0.        , 0.72727275,\n",
       "       0.        , 0.72727275, 0.        , 0.6818182 , 0.        ,\n",
       "       0.6818182 , 0.        , 0.72727275, 0.        , 0.6818182 ,\n",
       "       0.        , 0.72727275, 0.        , 0.77272725, 0.        ,\n",
       "       0.6818182 , 0.        , 0.6818182 , 0.        , 0.6818182 ,\n",
       "       0.        , 0.72727275, 0.        , 0.6818182 , 0.        ,\n",
       "       0.8181818 , 0.        , 0.72727275, 0.        , 0.6818182 ,\n",
       "       0.        , 0.8636364 , 0.        , 0.77272725, 0.        ,\n",
       "       0.6818182 , 0.        , 0.77272725, 0.        , 0.8181818 ,\n",
       "       0.        , 0.72727275, 0.        , 0.72727275, 0.        ,\n",
       "       0.77272725, 0.        , 0.6818182 , 0.        , 0.72727275,\n",
       "       0.        , 0.77272725, 0.        , 0.77272725, 0.        ,\n",
       "       0.72727275, 0.        , 0.72727275, 0.        , 0.72727275,\n",
       "       0.        , 0.72727275, 0.        , 0.72727275, 0.        ,\n",
       "       0.72727275, 0.        , 0.72727275, 0.        , 0.77272725,\n",
       "       0.        , 0.72727275, 0.        , 0.72727275, 0.        ,\n",
       "       0.77272725, 0.        , 0.72727275, 0.        , 0.77272725,\n",
       "       0.        , 0.72727275, 0.        , 0.77272725, 0.        ,\n",
       "       0.72727275, 0.        , 0.72727275, 0.        , 0.77272725,\n",
       "       0.        , 0.77272725, 0.        , 0.72727275, 0.        ,\n",
       "       0.77272725, 0.        , 0.72727275, 0.        , 0.72727275,\n",
       "       0.        , 0.77272725, 0.        , 0.77272725, 0.        ,\n",
       "       0.72727275, 0.        , 0.77272725, 0.        , 0.77272725,\n",
       "       0.        , 0.72727275, 0.        , 0.72727275, 0.        ,\n",
       "       0.77272725, 0.        , 0.77272725, 0.        , 0.72727275,\n",
       "       0.        , 0.77272725, 0.        , 0.72727275, 0.        ,\n",
       "       0.72727275, 0.        , 0.72727275, 0.        , 0.77272725,\n",
       "       0.        , 0.77272725, 0.        , 0.72727275, 0.        ,\n",
       "       0.77272725, 0.        , 0.72727275, 0.        , 0.72727275,\n",
       "       0.        , 0.72727275, 0.        , 0.77272725, 0.        ,\n",
       "       0.8636364 , 0.        , 0.77272725, 0.        , 0.72727275,\n",
       "       0.        , 0.8181818 , 0.        , 0.77272725, 0.        ,\n",
       "       0.77272725, 0.        , 0.77272725, 0.        , 0.8181818 ,\n",
       "       0.        , 0.77272725, 0.        , 0.77272725, 0.        ,\n",
       "       0.77272725, 0.        , 0.77272725, 0.        , 0.72727275,\n",
       "       0.        , 0.8181818 , 0.        , 0.72727275, 0.        ,\n",
       "       0.8181818 , 0.        , 0.77272725, 0.        , 0.77272725,\n",
       "       0.        , 0.8181818 , 0.        , 0.77272725, 0.        ,\n",
       "       0.77272725, 0.        , 0.77272725, 0.        , 0.77272725,\n",
       "       0.        , 0.72727275, 0.        , 0.72727275, 0.        ,\n",
       "       0.72727275, 0.        , 0.77272725, 0.        , 0.72727275,\n",
       "       0.        , 0.77272725, 0.        , 0.8181818 , 0.        ,\n",
       "       0.77272725, 0.        , 0.77272725, 0.        , 0.72727275,\n",
       "       0.        , 0.72727275, 0.        , 0.8181818 , 0.        ,\n",
       "       0.72727275, 0.        , 0.77272725, 0.        , 1.        ,\n",
       "       0.        , 0.8181818 , 0.        , 0.72727275, 0.        ,\n",
       "       0.8181818 , 0.        , 0.72727275, 0.        , 0.8181818 ,\n",
       "       0.        , 0.72727275, 0.        , 0.77272725, 0.        ,\n",
       "       0.77272725, 0.        , 0.77272725, 0.        , 0.8636364 ,\n",
       "       0.        , 0.8181818 , 0.        , 0.77272725, 0.        ,\n",
       "       0.8181818 , 0.        , 0.8181818 , 0.        , 0.8181818 ,\n",
       "       0.        , 0.77272725, 0.        , 0.8181818 , 0.        ,\n",
       "       0.8181818 , 0.        , 0.77272725, 0.        , 0.8181818 ,\n",
       "       0.        , 0.8181818 , 0.        , 0.8181818 , 0.        ,\n",
       "       0.8636364 , 0.        , 0.8181818 , 0.        , 0.8181818 ,\n",
       "       0.        , 0.77272725, 0.        , 0.77272725, 0.        ,\n",
       "       0.77272725, 0.        , 0.8181818 , 0.        , 0.8181818 ,\n",
       "       0.        , 0.8181818 , 0.        , 0.8181818 , 0.        ,\n",
       "       0.77272725, 0.        , 0.77272725, 0.        , 0.8181818 ,\n",
       "       0.        , 0.8181818 , 0.        , 0.77272725, 0.        ,\n",
       "       0.77272725, 0.        , 0.8181818 , 0.        , 0.77272725,\n",
       "       0.        , 0.8181818 , 0.        , 0.8181818 , 0.        ,\n",
       "       0.8181818 , 0.        , 0.77272725, 0.        , 0.8181818 ,\n",
       "       0.        , 0.77272725, 0.        , 0.8181818 , 0.        ,\n",
       "       0.77272725, 0.        , 0.8636364 , 0.        , 0.8181818 ,\n",
       "       0.        , 0.8181818 , 0.        , 0.8181818 , 0.        ,\n",
       "       0.8181818 , 0.        , 0.77272725, 0.        , 0.77272725,\n",
       "       0.        , 0.77272725, 0.        , 0.8636364 , 0.        ,\n",
       "       0.8181818 , 0.        , 0.90909094, 0.        , 0.8636364 ,\n",
       "       0.        , 0.8636364 , 0.        , 0.8636364 , 0.        ,\n",
       "       0.8636364 , 0.        , 0.8636364 , 0.        , 0.8636364 ,\n",
       "       0.        , 0.8636364 , 0.        , 0.8636364 , 0.        ,\n",
       "       0.8636364 , 0.        , 0.8181818 , 0.        , 0.8181818 ,\n",
       "       0.        , 0.77272725, 0.        , 0.8181818 , 0.        ,\n",
       "       0.77272725, 0.        , 0.77272725, 0.        , 0.77272725,\n",
       "       0.        , 0.77272725, 0.        , 0.77272725, 0.        ,\n",
       "       0.8181818 , 0.        , 0.77272725, 0.        , 0.77272725,\n",
       "       0.        , 0.77272725, 0.        , 0.77272725, 0.        ,\n",
       "       0.8181818 , 0.        , 0.77272725, 0.        , 0.8181818 ,\n",
       "       0.        , 0.8181818 , 0.        , 0.8181818 , 0.        ,\n",
       "       0.77272725, 0.        , 0.8636364 , 0.        , 0.77272725,\n",
       "       0.        , 0.8181818 , 0.        , 0.77272725, 0.        ,\n",
       "       0.8636364 , 0.        , 0.8181818 , 0.        , 0.8181818 ,\n",
       "       0.        , 0.77272725, 0.        , 0.8181818 , 0.        ,\n",
       "       0.8181818 , 0.        , 0.8181818 , 0.        , 0.8181818 ,\n",
       "       0.        , 0.77272725, 0.        , 0.8181818 , 0.        ,\n",
       "       0.8636364 , 0.        , 0.77272725, 0.        , 0.8181818 ,\n",
       "       0.        , 0.8636364 , 0.        , 0.77272725, 0.        ,\n",
       "       0.8181818 , 0.        , 0.77272725, 0.        , 0.77272725,\n",
       "       0.        , 0.8181818 , 0.        , 0.8181818 , 0.        ,\n",
       "       0.8181818 , 0.        , 0.8181818 , 0.        , 0.8181818 ,\n",
       "       0.        , 0.77272725, 0.        , 0.77272725, 0.        ,\n",
       "       0.8181818 , 0.        , 0.8181818 , 0.        , 0.77272725,\n",
       "       0.        , 0.8181818 , 0.        , 0.8181818 , 0.        ,\n",
       "       0.8636364 , 0.        , 0.8181818 , 0.        , 0.77272725,\n",
       "       0.        , 0.77272725, 0.        , 0.8181818 , 0.        ,\n",
       "       0.8181818 , 0.        , 0.90909094, 0.        , 0.8181818 ,\n",
       "       0.        , 0.8181818 , 0.        , 0.77272725, 0.        ,\n",
       "       0.8181818 , 0.        , 0.8181818 , 0.        , 0.77272725,\n",
       "       0.        , 0.8636364 , 0.        , 0.8181818 , 0.        ,\n",
       "       0.8181818 , 0.        , 0.8181818 , 0.        , 0.8636364 ,\n",
       "       0.        , 0.8181818 , 0.        , 0.8181818 , 0.        ,\n",
       "       0.90909094, 0.        , 0.77272725, 0.        , 0.95454544,\n",
       "       0.        , 0.8181818 , 0.        , 0.8636364 , 0.        ],\n",
       "      dtype=float32)"
      ]
     },
     "execution_count": 25,
     "metadata": {},
     "output_type": "execute_result"
    }
   ],
   "source": [
    "normalize(x_train)[:,2]"
   ]
  },
  {
   "cell_type": "code",
   "execution_count": null,
   "id": "153f216b",
   "metadata": {},
   "outputs": [],
   "source": []
  }
 ],
 "metadata": {
  "kernelspec": {
   "display_name": "Python 3 (ipykernel)",
   "language": "python",
   "name": "python3"
  },
  "language_info": {
   "codemirror_mode": {
    "name": "ipython",
    "version": 3
   },
   "file_extension": ".py",
   "mimetype": "text/x-python",
   "name": "python",
   "nbconvert_exporter": "python",
   "pygments_lexer": "ipython3",
   "version": "3.9.7"
  }
 },
 "nbformat": 4,
 "nbformat_minor": 5
}
