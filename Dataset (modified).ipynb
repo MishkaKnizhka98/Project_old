{
 "cells": [
  {
   "cell_type": "code",
   "execution_count": 1,
   "id": "021be23d",
   "metadata": {},
   "outputs": [],
   "source": [
    "import pandas as pd\n",
    "import numpy as np\n",
    "import matplotlib.pyplot as plt\n",
    "import copy\n",
    "from sklearn.preprocessing import LabelEncoder\n",
    "from sklearn.preprocessing import StandardScaler\n",
    "\n",
    "\n",
    "def load_data(file_name):\n",
    "    \"\"\"\n",
    "    Loads the data from a student dataset file_name and converts it to a training set (x_train, y_train).\n",
    "    The input x_train includes the features [\"sex\", \"age\", \"Pstatus\", \"Mjob\", \"Fjob\", \"higher\", \"activities\"],\n",
    "    the output y_train contains the final grade G3.\n",
    "\n",
    "    Parameters:\n",
    "        file_name (string): path to a student dataset\n",
    "\n",
    "    Returns:\n",
    "        x_train (ndarray): Shape(m, 7), m - number of training examples (students) Input to the model\n",
    "        y_train (ndarray): Shape(m,) Output of the model\n",
    "    \"\"\"\n",
    "    # importing the dataset\n",
    "    data = pd.read_csv(file_name)\n",
    "\n",
    "    # Editing the raw dataset to get x_train and y_train\n",
    "    data = data[[\"school\", \"sex\", \"age\", \"Mjob\", \"Fjob\", \"higher\", \"activities\", \"G3\"]]\n",
    "\n",
    "    # Turning categorical features into numbers\n",
    "    # Dummy matrices + Label Encoding\n",
    "    non_num = data.select_dtypes(include=\"object\")\n",
    "    encoder = LabelEncoder()\n",
    "    for column in non_num.columns:\n",
    "        if len(non_num[column].unique()) == 2:\n",
    "            data[column] = encoder.fit_transform(data[column])\n",
    "        \n",
    "        else:\n",
    "            non_num[column] = non_num[column].apply(lambda x: column[0].lower() + \"_\" + x)\n",
    "            dummies = pd.get_dummies(non_num[column])\n",
    "            dummies = dummies.drop([dummies.columns[-1]], axis = 1)\n",
    "            data = pd.concat([data, dummies], axis=1)\n",
    "            data = data.drop([column], axis=1)\n",
    "\n",
    "    # Extracting x_train and y_train from the table\n",
    "    x_train = data.drop([\"G3\"], axis=1)\n",
    "    y_train = data[\"G3\"]\n",
    "\n",
    "    return x_train, y_train"
   ]
  },
  {
   "cell_type": "code",
   "execution_count": 2,
   "id": "346602be",
   "metadata": {},
   "outputs": [],
   "source": [
    "def pd_to_np(x,y):\n",
    "    \"\"\"\n",
    "    \n",
    "    Converts a Dataframe to a Numpy array.\n",
    "    \n",
    "    Parameters:\n",
    "        x (pandas dataframe): Training set as DataFrame\n",
    "        y (pandas dataframe): Output set as DataFrame\n",
    "    \n",
    "    Returns:\n",
    "        x (ndarray): Training set as Numpy array\n",
    "        y (ndarray): Output set as Numpy array\n",
    "    \"\"\"\n",
    "        \n",
    "    x = x.to_numpy()\n",
    "    y = y.to_numpy()\n",
    "    \n",
    "    x.dtype = \"f\"\n",
    "    y.dtype = \"f\"\n",
    "    \n",
    "    return x, y"
   ]
  },
  {
   "cell_type": "code",
   "execution_count": 6,
   "id": "c5f1f298",
   "metadata": {
    "scrolled": true
   },
   "outputs": [],
   "source": [
    "def normalize(x):\n",
    "    \"\"\"\n",
    "    \n",
    "    Performs feature scaling in the range [0,1] by division of each feature by its maximum value.\n",
    "    \n",
    "    Parameters:\n",
    "        x (ndarray): Training set (features of students)\n",
    "    \n",
    "    Returns:\n",
    "        x (ndarray): Training set exposed to feature scaling (input to the model)\n",
    "    \"\"\"\n",
    "    x.dtype = \"f\"\n",
    "    for column in range(x.shape[1]):\n",
    "        x[:,column] = x[:,column]/x[:,column].max()\n",
    "        \n",
    "    return x\n"
   ]
  },
  {
   "cell_type": "code",
   "execution_count": null,
   "id": "0c3aa545",
   "metadata": {
    "scrolled": true
   },
   "outputs": [],
   "source": []
  },
  {
   "cell_type": "code",
   "execution_count": 7,
   "id": "3acbfde4",
   "metadata": {},
   "outputs": [
    {
     "data": {
      "text/plain": [
       "array([[0.01, 0.02, 0.03],\n",
       "       [0.04, 0.05, 0.06],\n",
       "       [0.07, 0.08, 0.09],\n",
       "       [1.  , 1.  , 1.  ]], dtype=float32)"
      ]
     },
     "execution_count": 7,
     "metadata": {},
     "output_type": "execute_result"
    }
   ],
   "source": [
    "ex = np.array([[1,2,3],\n",
    "               [4,5,6],\n",
    "               [7,8,9],\n",
    "               [100,100,100]])\n",
    "normalize(ex)"
   ]
  },
  {
   "cell_type": "code",
   "execution_count": 8,
   "id": "7afd7eab",
   "metadata": {},
   "outputs": [
    {
     "data": {
      "text/plain": [
       "dtype('float32')"
      ]
     },
     "execution_count": 8,
     "metadata": {},
     "output_type": "execute_result"
    }
   ],
   "source": [
    "ex_norm = normalize(ex)\n",
    "ex_norm[0][0].dtype"
   ]
  },
  {
   "cell_type": "code",
   "execution_count": null,
   "id": "0a4a9b24",
   "metadata": {},
   "outputs": [],
   "source": []
  },
  {
   "cell_type": "code",
   "execution_count": null,
   "id": "0c693965",
   "metadata": {},
   "outputs": [],
   "source": []
  },
  {
   "cell_type": "code",
   "execution_count": null,
   "id": "2086b58d",
   "metadata": {},
   "outputs": [],
   "source": []
  },
  {
   "cell_type": "code",
   "execution_count": null,
   "id": "42333706",
   "metadata": {},
   "outputs": [],
   "source": []
  },
  {
   "cell_type": "code",
   "execution_count": null,
   "id": "e4f31ef9",
   "metadata": {},
   "outputs": [],
   "source": []
  }
 ],
 "metadata": {
  "kernelspec": {
   "display_name": "Python 3 (ipykernel)",
   "language": "python",
   "name": "python3"
  },
  "language_info": {
   "codemirror_mode": {
    "name": "ipython",
    "version": 3
   },
   "file_extension": ".py",
   "mimetype": "text/x-python",
   "name": "python",
   "nbconvert_exporter": "python",
   "pygments_lexer": "ipython3",
   "version": "3.9.7"
  }
 },
 "nbformat": 4,
 "nbformat_minor": 5
}
